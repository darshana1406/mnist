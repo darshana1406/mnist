{
 "cells": [
  {
   "cell_type": "code",
   "execution_count": 1,
   "metadata": {
    "_cell_guid": "b1076dfc-b9ad-4769-8c92-a6c4dae69d19",
    "_uuid": "8f2839f25d086af736a60e9eeb907d3b93b6e0e5"
   },
   "outputs": [
    {
     "name": "stdout",
     "output_type": "stream",
     "text": [
      "/kaggle/input/digit-recognizer/train.csv\n",
      "/kaggle/input/digit-recognizer/test.csv\n",
      "/kaggle/input/digit-recognizer/sample_submission.csv\n"
     ]
    }
   ],
   "source": [
    "# This Python 3 environment comes with many helpful analytics libraries installed\n",
    "# It is defined by the kaggle/python docker image: https://github.com/kaggle/docker-python\n",
    "# For example, here's several helpful packages to load in \n",
    "\n",
    "import numpy as np # linear algebra\n",
    "import pandas as pd # data processing, CSV file I/O (e.g. pd.read_csv)\n",
    "\n",
    "# Input data files are available in the \"../input/\" directory.\n",
    "# For example, running this (by clicking run or pressing Shift+Enter) will list all files under the input directory\n",
    "\n",
    "import os\n",
    "for dirname, _, filenames in os.walk('/kaggle/input'):\n",
    "    for filename in filenames:\n",
    "        print(os.path.join(dirname, filename))\n",
    "\n",
    "# Any results you write to the current directory are saved as output."
   ]
  },
  {
   "cell_type": "code",
   "execution_count": 2,
   "metadata": {},
   "outputs": [],
   "source": [
    "from sklearn.model_selection import train_test_split\n",
    "import pandas as pd"
   ]
  },
  {
   "cell_type": "code",
   "execution_count": 3,
   "metadata": {
    "_cell_guid": "79c7e3d0-c299-4dcb-8224-4455121ee9b0",
    "_uuid": "d629ff2d2480ee46fbb7e2d37f6b5fab8052498a"
   },
   "outputs": [
    {
     "name": "stdout",
     "output_type": "stream",
     "text": [
      "(42000, 785)\n"
     ]
    }
   ],
   "source": [
    "data = pd.read_csv(\"../input/digit-recognizer/train.csv\")\n",
    "X_test = pd.read_csv(\"../input/digit-recognizer/test.csv\")\n",
    "print(data.shape)"
   ]
  },
  {
   "cell_type": "code",
   "execution_count": 4,
   "metadata": {},
   "outputs": [
    {
     "data": {
      "text/plain": [
       "(31500, 1, 28, 28)"
      ]
     },
     "execution_count": 4,
     "metadata": {},
     "output_type": "execute_result"
    }
   ],
   "source": [
    "Y = data.iloc[:,0]\n",
    "X = data.iloc[:,1:]\n",
    "X_train, X_val, Y_train, Y_val = train_test_split(X,Y,stratify = Y,random_state=0)\n",
    "X_train = np.asarray(X_train)\n",
    "X_val = np.asarray(X_val)\n",
    "Y_train = np.asarray(Y_train)\n",
    "Y_val = np.asarray(Y_val)\n",
    "X_test = np.asarray(X_test)\n",
    "\n",
    "X_train=np.reshape(X_train,(31500,1,28,28))\n",
    "X_val=np.reshape(X_val,(10500,1,28,28))\n",
    "X_test=np.reshape(X_test,(28000,1,28,28))\n",
    "X_train.shape"
   ]
  },
  {
   "cell_type": "code",
   "execution_count": 5,
   "metadata": {},
   "outputs": [
    {
     "data": {
      "text/plain": [
       "31500"
      ]
     },
     "execution_count": 5,
     "metadata": {},
     "output_type": "execute_result"
    }
   ],
   "source": [
    "X_train.shape[0]"
   ]
  },
  {
   "cell_type": "markdown",
   "metadata": {},
   "source": [
    "# CNN"
   ]
  },
  {
   "cell_type": "code",
   "execution_count": 6,
   "metadata": {},
   "outputs": [],
   "source": [
    "import torch\n",
    "import torch.nn as nn\n",
    "import torch.optim as optim\n",
    "import torch.nn.functional as F\n",
    "import matplotlib.pyplot as plt"
   ]
  },
  {
   "cell_type": "code",
   "execution_count": 7,
   "metadata": {},
   "outputs": [],
   "source": [
    "X_train, Y_train, X_val, Y_val, X_test = map(torch.tensor,(X_train,Y_train,X_val,Y_val,X_test))"
   ]
  },
  {
   "cell_type": "code",
   "execution_count": 8,
   "metadata": {},
   "outputs": [
    {
     "data": {
      "text/plain": [
       "31500"
      ]
     },
     "execution_count": 8,
     "metadata": {},
     "output_type": "execute_result"
    }
   ],
   "source": [
    "X_train.shape[0]"
   ]
  },
  {
   "cell_type": "code",
   "execution_count": 9,
   "metadata": {},
   "outputs": [],
   "source": [
    "class FirstNetwork_v2(nn.Module):\n",
    "  \n",
    "  def __init__(self):\n",
    "    super().__init__()\n",
    "    torch.manual_seed(0)\n",
    "    \n",
    "    \n",
    "    def init_weights(m):\n",
    "        if type(m) == nn.Linear:\n",
    "            torch.nn.init.xavier_normal_(m.weight)\n",
    "            m.bias.data.fill_(0.01)\n",
    "        \n",
    "        \n",
    "    self.cnn = nn.Sequential(\n",
    "        nn.Conv2d(1,6,5), # 1,28,28  6,24,24\n",
    "        nn.Tanh(),\n",
    "        nn.AvgPool2d(2, stride=2), #5, 24,24  5,12,12\n",
    "        nn.Tanh(),\n",
    "        nn.Conv2d(6,16,5),# 5,12,12  16,8,8\n",
    "        nn.Tanh(),\n",
    "        nn.AvgPool2d(2, stride=2) #16,8,8 16,4,4\n",
    "    )\n",
    "    self.fnn = nn.Sequential(\n",
    "        nn.Linear(256, 120),\n",
    "        nn.Tanh(),\n",
    "        nn.Linear(120, 84),\n",
    "        nn.Tanh(),\n",
    "        nn.Linear(84, 10),\n",
    "        nn.Softmax()\n",
    "    )\n",
    "    #self.fnn.apply(init_weights)\n",
    "\n",
    "  def forward(self, X):\n",
    "    X = self.cnn(X)\n",
    "    X = X.view(X.size(0), -1)\n",
    "    return self.fnn(X)"
   ]
  },
  {
   "cell_type": "code",
   "execution_count": 10,
   "metadata": {},
   "outputs": [],
   "source": [
    "def fit_v2(x, y, model, opt, loss_fn, epochs = 50):\n",
    "    \n",
    "  loss_arr = {}\n",
    "    \n",
    "  for epoch in range(epochs):\n",
    "    y_pred = model(x)\n",
    "    loss = loss_fn(y_pred, y)\n",
    "    loss_arr[epoch] = loss\n",
    "\n",
    "    loss.backward()\n",
    "    opt.step()\n",
    "    opt.zero_grad()\n",
    "    print(str(epoch+1)+'/'+str(epochs))\n",
    "    \n",
    "  plt.plot(loss_arr.values())\n",
    "  plt.xlabel('epoch')\n",
    "  plt.ylabel('log loss')\n",
    "  plt.show()\n",
    "  return loss.item()"
   ]
  },
  {
   "cell_type": "code",
   "execution_count": 11,
   "metadata": {},
   "outputs": [],
   "source": [
    "def predict(x, model):\n",
    "    \n",
    "    outputs = model(x)\n",
    "    _,y_pred = torch.max(outputs.data, 1)\n",
    "    return y_pred\n",
    "\n",
    "def accuracy(x, y, model):\n",
    "   \n",
    "    correct = 0\n",
    "    y_pred = predict(x, model)\n",
    "    correct += (y_pred==y).sum().item()\n",
    "    \n",
    "    print('accuracy = ',correct/x.shape[0])"
   ]
  },
  {
   "cell_type": "code",
   "execution_count": 12,
   "metadata": {},
   "outputs": [
    {
     "name": "stderr",
     "output_type": "stream",
     "text": [
      "/opt/conda/lib/python3.6/site-packages/torch/nn/modules/container.py:100: UserWarning: Implicit dimension choice for softmax has been deprecated. Change the call to include dim=X as an argument.\n",
      "  input = module(input)\n"
     ]
    },
    {
     "name": "stdout",
     "output_type": "stream",
     "text": [
      "1/50\n",
      "2/50\n",
      "3/50\n",
      "4/50\n",
      "5/50\n",
      "6/50\n",
      "7/50\n",
      "8/50\n",
      "9/50\n",
      "10/50\n",
      "11/50\n",
      "12/50\n",
      "13/50\n",
      "14/50\n",
      "15/50\n",
      "16/50\n",
      "17/50\n",
      "18/50\n",
      "19/50\n",
      "20/50\n",
      "21/50\n",
      "22/50\n",
      "23/50\n",
      "24/50\n",
      "25/50\n",
      "26/50\n",
      "27/50\n",
      "28/50\n",
      "29/50\n",
      "30/50\n",
      "31/50\n",
      "32/50\n",
      "33/50\n",
      "34/50\n",
      "35/50\n",
      "36/50\n",
      "37/50\n",
      "38/50\n",
      "39/50\n",
      "40/50\n",
      "41/50\n",
      "42/50\n",
      "43/50\n",
      "44/50\n",
      "45/50\n",
      "46/50\n",
      "47/50\n",
      "48/50\n",
      "49/50\n",
      "50/50\n"
     ]
    },
    {
     "data": {
      "image/png": "[encoded data removed]",
      "text/plain": [
       "<Figure size 432x288 with 1 Axes>"
      ]
     },
     "metadata": {
      "needs_background": "light"
     },
     "output_type": "display_data"
    },
    {
     "name": "stdout",
     "output_type": "stream",
     "text": [
      "accuracy =  0.978\n",
      "accuracy =  0.9672380952380952\n"
     ]
    }
   ],
   "source": [
    "fn = FirstNetwork_v2()\n",
    "loss_fn = F.cross_entropy\n",
    "opt = optim.Adam(fn.parameters(),lr = 0.0095,betas=(0.9,0.99), weight_decay=1e-5)\n",
    "fit_v2(X_train.float(), Y_train, fn, opt, loss_fn)\n",
    "accuracy(X_train.float(),Y_train,fn)\n",
    "accuracy(X_val.float(),Y_val,fn)"
   ]
  },
  {
   "cell_type": "code",
   "execution_count": 13,
   "metadata": {},
   "outputs": [],
   "source": [
    "Y_pred = predict(X_test.float(), fn)\n",
    "\n",
    "submission = pd.read_csv(\"../input/digit-recognizer/sample_submission.csv\")\n",
    "submission[\"Label\"] = Y_pred\n",
    "submission = submission[['ImageId', 'Label']]\n",
    "submission.to_csv(\"submisision.csv\", index=False)"
   ]
  }
 ],
 "metadata": {
  "kernelspec": {
   "display_name": "Python 3",
   "language": "python",
   "name": "python3"
  },
  "language_info": {
   "codemirror_mode": {
    "name": "ipython",
    "version": 3
   },
   "file_extension": ".py",
   "mimetype": "text/x-python",
   "name": "python",
   "nbconvert_exporter": "python",
   "pygments_lexer": "ipython3",
   "version": "3.6.6"
  }
 },
 "nbformat": 4,
 "nbformat_minor": 1
}
